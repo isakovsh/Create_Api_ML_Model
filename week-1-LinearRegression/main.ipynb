{
 "cells": [
  {
   "cell_type": "code",
   "execution_count": 11,
   "metadata": {},
   "outputs": [],
   "source": [
    "import numpy as np\n",
    "import matplotlib.pyplot as plt\n",
    "import pandas as pd"
   ]
  },
  {
   "cell_type": "code",
   "execution_count": 9,
   "metadata": {},
   "outputs": [],
   "source": [
    "class LinearRegression:\n",
    "    def __init__(self,lr=0.01,n_iterations=1000):\n",
    "        self.lr = lr \n",
    "        self.n_iterations = n_iterations\n",
    "        self.weights = None \n",
    "        self.bias = None\n",
    "\n",
    "    def fit(self,X,y):\n",
    "        n_samples , n_features = X.shape\n",
    "        self.weights = np.zeros(n_features)\n",
    "        self.bias = 0\n",
    "\n",
    "        for _ in range(self.n_iterations):\n",
    "            y_pred = np.dot(X,self.weights) + self.bias\n",
    "\n",
    "            dw = (1/n_samples) * np.dot(X.T, (y_pred-y))\n",
    "            db = (1/n_samples) * np.sum(y_pred-y)\n",
    "\n",
    "            self.weights = self.weights - self.lr * dw \n",
    "            self.bias = self.bias - self.lr * db \n",
    "    \n",
    "    def predict(self,X):\n",
    "        y_pred =  np.dot(X.T,self.weights) + self.bias\n",
    "        return y_pred\n",
    "        "
   ]
  },
  {
   "cell_type": "code",
   "execution_count": 14,
   "metadata": {},
   "outputs": [
    {
     "data": {
      "text/html": [
       "<div>\n",
       "<style scoped>\n",
       "    .dataframe tbody tr th:only-of-type {\n",
       "        vertical-align: middle;\n",
       "    }\n",
       "\n",
       "    .dataframe tbody tr th {\n",
       "        vertical-align: top;\n",
       "    }\n",
       "\n",
       "    .dataframe thead th {\n",
       "        text-align: right;\n",
       "    }\n",
       "</style>\n",
       "<table border=\"1\" class=\"dataframe\">\n",
       "  <thead>\n",
       "    <tr style=\"text-align: right;\">\n",
       "      <th></th>\n",
       "      <th>Unnamed: 0</th>\n",
       "      <th>district</th>\n",
       "      <th>rooms</th>\n",
       "      <th>size</th>\n",
       "      <th>level</th>\n",
       "      <th>max_levels</th>\n",
       "      <th>price</th>\n",
       "    </tr>\n",
       "  </thead>\n",
       "  <tbody>\n",
       "    <tr>\n",
       "      <th>0</th>\n",
       "      <td>0</td>\n",
       "      <td>Юнусабадский</td>\n",
       "      <td>3</td>\n",
       "      <td>57.0</td>\n",
       "      <td>4</td>\n",
       "      <td>4</td>\n",
       "      <td>52000.0</td>\n",
       "    </tr>\n",
       "    <tr>\n",
       "      <th>1</th>\n",
       "      <td>1</td>\n",
       "      <td>Яккасарайский</td>\n",
       "      <td>2</td>\n",
       "      <td>52.0</td>\n",
       "      <td>4</td>\n",
       "      <td>5</td>\n",
       "      <td>56000.0</td>\n",
       "    </tr>\n",
       "    <tr>\n",
       "      <th>2</th>\n",
       "      <td>2</td>\n",
       "      <td>Чиланзарский</td>\n",
       "      <td>2</td>\n",
       "      <td>42.0</td>\n",
       "      <td>4</td>\n",
       "      <td>4</td>\n",
       "      <td>37000.0</td>\n",
       "    </tr>\n",
       "    <tr>\n",
       "      <th>3</th>\n",
       "      <td>3</td>\n",
       "      <td>Чиланзарский</td>\n",
       "      <td>3</td>\n",
       "      <td>65.0</td>\n",
       "      <td>1</td>\n",
       "      <td>4</td>\n",
       "      <td>49500.0</td>\n",
       "    </tr>\n",
       "    <tr>\n",
       "      <th>4</th>\n",
       "      <td>4</td>\n",
       "      <td>Чиланзарский</td>\n",
       "      <td>3</td>\n",
       "      <td>70.0</td>\n",
       "      <td>3</td>\n",
       "      <td>5</td>\n",
       "      <td>55000.0</td>\n",
       "    </tr>\n",
       "  </tbody>\n",
       "</table>\n",
       "</div>"
      ],
      "text/plain": [
       "   Unnamed: 0       district  rooms  size  level  max_levels    price\n",
       "0           0   Юнусабадский      3  57.0      4           4  52000.0\n",
       "1           1  Яккасарайский      2  52.0      4           5  56000.0\n",
       "2           2   Чиланзарский      2  42.0      4           4  37000.0\n",
       "3           3   Чиланзарский      3  65.0      1           4  49500.0\n",
       "4           4   Чиланзарский      3  70.0      3           5  55000.0"
      ]
     },
     "execution_count": 14,
     "metadata": {},
     "output_type": "execute_result"
    }
   ],
   "source": [
    "df = pd.read_csv(\"https://raw.githubusercontent.com/anvarnarz/praktikum_datasets/main/housing_LR.csv\")\n",
    "df.head()"
   ]
  },
  {
   "cell_type": "code",
   "execution_count": 16,
   "metadata": {},
   "outputs": [],
   "source": [
    "X = df['size']"
   ]
  },
  {
   "cell_type": "code",
   "execution_count": 17,
   "metadata": {},
   "outputs": [
    {
     "data": {
      "text/plain": [
       "0       57.0\n",
       "1       52.0\n",
       "2       42.0\n",
       "3       65.0\n",
       "4       70.0\n",
       "        ... \n",
       "7273    38.0\n",
       "7274    49.0\n",
       "7275    64.0\n",
       "7276    18.0\n",
       "7277    30.0\n",
       "Name: size, Length: 7278, dtype: float64"
      ]
     },
     "execution_count": 17,
     "metadata": {},
     "output_type": "execute_result"
    }
   ],
   "source": [
    "X"
   ]
  },
  {
   "cell_type": "code",
   "execution_count": null,
   "metadata": {},
   "outputs": [],
   "source": []
  }
 ],
 "metadata": {
  "kernelspec": {
   "display_name": "venv",
   "language": "python",
   "name": "python3"
  },
  "language_info": {
   "codemirror_mode": {
    "name": "ipython",
    "version": 3
   },
   "file_extension": ".py",
   "mimetype": "text/x-python",
   "name": "python",
   "nbconvert_exporter": "python",
   "pygments_lexer": "ipython3",
   "version": "3.9.2"
  },
  "orig_nbformat": 4
 },
 "nbformat": 4,
 "nbformat_minor": 2
}
